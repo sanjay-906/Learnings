{
 "cells": [
  {
   "cell_type": "code",
   "execution_count": 1,
   "id": "ee1284be",
   "metadata": {},
   "outputs": [],
   "source": [
    "import tensorflow as tf\n",
    "import numpy as np\n",
    "import pandas as pd\n",
    "import matplotlib.pyplot as plt\n",
    "from IPython.display import YouTubeVideo\n",
    "import os\n",
    "from google.protobuf.json_format import MessageToJson\n",
    "import shlex\n",
    "import subprocess\n",
    "import re"
   ]
  },
  {
   "cell_type": "code",
   "execution_count": 2,
   "id": "1059cd4b",
   "metadata": {},
   "outputs": [
    {
     "name": "stdout",
     "output_type": "stream",
     "text": [
      "WARNING:tensorflow:From C:\\Users\\Admin\\AppData\\Local\\Temp/ipykernel_9688/3511822474.py:8: tf_record_iterator (from tensorflow.python.lib.io.tf_record) is deprecated and will be removed in a future version.\n",
      "Instructions for updating:\n",
      "Use eager execution and: \n",
      "`tf.data.TFRecordDataset(path)`\n",
      "{\n",
      "  \"features\": {\n",
      "    \"feature\": {\n",
      "      \"segment_labels\": {\n",
      "        \"int64List\": {\n",
      "          \"value\": [\n",
      "            \"1444\",\n",
      "            \"1444\",\n",
      "            \"1444\",\n",
      "            \"1444\",\n",
      "            \"1444\"\n",
      "          ]\n",
      "        }\n",
      "      },\n",
      "      \"segment_end_times\": {\n",
      "        \"int64List\": {\n",
      "          \"value\": [\n",
      "            \"40\",\n",
      "            \"165\",\n",
      "            \"135\",\n",
      "            \"185\",\n",
      "            \"140\"\n",
      "          ]\n",
      "        }\n",
      "      },\n",
      "      \"segment_scores\": {\n",
      "        \"floatList\": {\n",
      "          \"value\": [\n",
      "            1.0,\n",
      "            1.0,\n",
      "            1.0,\n",
      "            0.0,\n",
      "            1.0\n",
      "          ]\n",
      "        }\n",
      "      },\n",
      "      \"id\": {\n",
      "        \"bytesList\": {\n",
      "          \"value\": [\n",
      "            \"RTNhdQ==\"\n",
      "          ]\n",
      "        }\n",
      "      },\n",
      "      \"segment_start_times\": {\n",
      "        \"int64List\": {\n",
      "          \"value\": [\n",
      "            \"35\",\n",
      "            \"160\",\n",
      "            \"130\",\n",
      "            \"180\",\n",
      "            \"135\"\n",
      "          ]\n",
      "        }\n",
      "      },\n",
      "      \"labels\": {\n",
      "        \"int64List\": {\n",
      "          \"value\": [\n",
      "            \"5\",\n",
      "            \"204\",\n",
      "            \"1444\"\n",
      "          ]\n",
      "        }\n",
      "      }\n",
      "    }\n",
      "  }\n",
      "}\n"
     ]
    }
   ],
   "source": [
    "#segment level feature\n",
    "record1= \"validate0020.tfrecord\"\n",
    "\n",
    "rgb_r1=[]\n",
    "labels_r1=[]\n",
    "vid_id_r1=[]\n",
    "seg_labels_r1=[]\n",
    "for example in tf.compat.v1.python_io.tf_record_iterator(record1):\n",
    "    tf_example= tf.train.Example.FromString(example)\n",
    "    labels_r1.append(tf_example.features.feature['labels'].int64_list.value)\n",
    "    seg_labels_r1.append(tf_example.features.feature['segment_labels'].int64_list.value)\n",
    "    vid_id_r1.append(tf_example.features.feature['id'].bytes_list.value[0].decode(encoding='UTF-8'))\n",
    "    \n",
    "for example in tf.compat.v1.python_io.tf_record_iterator(record1):\n",
    "    tf_seq_example= tf.train.SequenceExample.FromString(example)\n",
    "    n_frames= len(tf_seq_example.feature_lists.feature_list['rgb'].feature)\n",
    "        \n",
    "    sess= tf.compat.v1.InteractiveSession()\n",
    "    rgb_frame= []\n",
    "        \n",
    "    for i in range(n_frames):\n",
    "        rgb_frame.append(tf.cast(tf.io.decode_raw(tf_seq_example.feature_lists. \\\n",
    "                                                  feature_list['rgb'].feature[i]. \\\n",
    "                                                  bytes_list.value[0],tf.uint8),tf.float32).numpy())\n",
    "            \n",
    "    sess.close()\n",
    "    rgb_r1.append(rgb_frame)\n",
    "    \n",
    "\n",
    "for i, example in enumerate(tf.compat.v1.python_io.tf_record_iterator(record1)):\n",
    "    jsonMessage = MessageToJson(tf.train.Example.FromString(example))\n",
    "    print(jsonMessage)\n",
    "    break"
   ]
  },
  {
   "cell_type": "code",
   "execution_count": 3,
   "id": "cbc6d180",
   "metadata": {},
   "outputs": [
    {
     "name": "stdout",
     "output_type": "stream",
     "text": [
      "Number of rgb_features(videos):  15\n",
      "Number of frames in the first video: 300\n",
      "Number of pixels in the first video(in any video): 1024\n",
      "Number of labels :  15\n",
      "labels of the first video: [5, 204, 1444]\n",
      "Segment labels of the first video: [1444, 1444, 1444, 1444, 1444]\n"
     ]
    }
   ],
   "source": [
    "print('Number of rgb_features(videos): ',len(rgb_r1))\n",
    "print('Number of frames in the first video:', len(rgb_r1[0]))\n",
    "print('Number of pixels in the first video(in any video):', len(rgb_r1[0][0]))\n",
    "print('Number of labels : ', len (labels_r1))\n",
    "#each video has its own list of labels\n",
    "print('labels of the first video:',labels_r1[0])\n",
    "print('Segment labels of the first video:', seg_labels_r1[0])"
   ]
  },
  {
   "cell_type": "code",
   "execution_count": 4,
   "id": "ee2b8a57",
   "metadata": {},
   "outputs": [
    {
     "data": {
      "text/plain": [
       "'E3au'"
      ]
     },
     "execution_count": 4,
     "metadata": {},
     "output_type": "execute_result"
    }
   ],
   "source": [
    "idx= vid_id_r1[0]\n",
    "idx"
   ]
  },
  {
   "cell_type": "code",
   "execution_count": 5,
   "id": "db266db6",
   "metadata": {},
   "outputs": [
    {
     "name": "stdout",
     "output_type": "stream",
     "text": [
      "b'i(\"E3au\",\"luRTDrD5GtY\");'\n"
     ]
    }
   ],
   "source": [
    "cmd = 'curl http://data.yt8m.org/2/j/i/{0}/{1}.js'.format(idx[:2],idx)\n",
    "args = shlex.split(cmd)\n",
    "\n",
    "process = subprocess.Popen(args, shell=False, stdout=subprocess.PIPE, stderr=subprocess.PIPE)\n",
    "stdout, stderr = process.communicate()\n",
    "print(stdout)"
   ]
  },
  {
   "cell_type": "code",
   "execution_count": 6,
   "id": "e20da754",
   "metadata": {},
   "outputs": [
    {
     "name": "stdout",
     "output_type": "stream",
     "text": [
      "\"\"luRTDrD5GtY\"\"\n"
     ]
    }
   ],
   "source": [
    "output = stdout.decode()\n",
    "\n",
    "pattern = r'\"([A-Za-z0-9]*)\"'\n",
    "m = re.search(pattern, output[9:])\n",
    "vid= m.group()\n",
    "vid= str(r'\"{}\"'.format(vid))\n",
    "print(vid)"
   ]
  },
  {
   "cell_type": "code",
   "execution_count": 7,
   "id": "5a146ab2",
   "metadata": {},
   "outputs": [
    {
     "data": {
      "image/jpeg": "[encoded data removed]",
      "text/html": [
       "\n",
       "        <iframe\n",
       "            width=\"400\"\n",
       "            height=\"300\"\n",
       "            src=\"https://www.youtube.com/embed/luRTDrD5GtY\"\n",
       "            frameborder=\"0\"\n",
       "            allowfullscreen\n",
       "            \n",
       "        ></iframe>\n",
       "        "
      ],
      "text/plain": [
       "<IPython.lib.display.YouTubeVideo at 0x14c92b2e8e0>"
      ]
     },
     "execution_count": 7,
     "metadata": {},
     "output_type": "execute_result"
    }
   ],
   "source": [
    "#YouTubeVideo(vid) #gives error\n",
    "YouTubeVideo(\"luRTDrD5GtY\")"
   ]
  },
  {
   "cell_type": "code",
   "execution_count": 8,
   "id": "c4062c44",
   "metadata": {},
   "outputs": [
    {
     "data": {
      "text/html": [
       "<div>\n",
       "<style scoped>\n",
       "    .dataframe tbody tr th:only-of-type {\n",
       "        vertical-align: middle;\n",
       "    }\n",
       "\n",
       "    .dataframe tbody tr th {\n",
       "        vertical-align: top;\n",
       "    }\n",
       "\n",
       "    .dataframe thead th {\n",
       "        text-align: right;\n",
       "    }\n",
       "</style>\n",
       "<table border=\"1\" class=\"dataframe\">\n",
       "  <thead>\n",
       "    <tr style=\"text-align: right;\">\n",
       "      <th></th>\n",
       "      <th>Index</th>\n",
       "      <th>TrainVideoCount</th>\n",
       "      <th>KnowledgeGraphId</th>\n",
       "      <th>Name</th>\n",
       "      <th>WikiUrl</th>\n",
       "      <th>Vertical1</th>\n",
       "      <th>Vertical2</th>\n",
       "      <th>Vertical3</th>\n",
       "      <th>WikiDescription</th>\n",
       "    </tr>\n",
       "  </thead>\n",
       "  <tbody>\n",
       "    <tr>\n",
       "      <th>0</th>\n",
       "      <td>3</td>\n",
       "      <td>378135</td>\n",
       "      <td>/m/01jddz</td>\n",
       "      <td>Concert</td>\n",
       "      <td>https://en.wikipedia.org/wiki/Concert</td>\n",
       "      <td>Arts &amp; Entertainment</td>\n",
       "      <td>NaN</td>\n",
       "      <td>NaN</td>\n",
       "      <td>A concert is a live music performance in front...</td>\n",
       "    </tr>\n",
       "    <tr>\n",
       "      <th>1</th>\n",
       "      <td>7</td>\n",
       "      <td>200813</td>\n",
       "      <td>/m/0k4j</td>\n",
       "      <td>Car</td>\n",
       "      <td>https://en.wikipedia.org/wiki/Car</td>\n",
       "      <td>Autos &amp; Vehicles</td>\n",
       "      <td>NaN</td>\n",
       "      <td>NaN</td>\n",
       "      <td>A car is a wheeled, self-powered motor vehicle...</td>\n",
       "    </tr>\n",
       "    <tr>\n",
       "      <th>2</th>\n",
       "      <td>8</td>\n",
       "      <td>181579</td>\n",
       "      <td>/m/026bk</td>\n",
       "      <td>Dance</td>\n",
       "      <td>https://en.wikipedia.org/wiki/Dance</td>\n",
       "      <td>Arts &amp; Entertainment</td>\n",
       "      <td>NaN</td>\n",
       "      <td>NaN</td>\n",
       "      <td>Dance is a performance art form consisting of ...</td>\n",
       "    </tr>\n",
       "    <tr>\n",
       "      <th>3</th>\n",
       "      <td>11</td>\n",
       "      <td>135357</td>\n",
       "      <td>/m/02wbm</td>\n",
       "      <td>Food</td>\n",
       "      <td>https://en.wikipedia.org/wiki/Food</td>\n",
       "      <td>Food &amp; Drink</td>\n",
       "      <td>NaN</td>\n",
       "      <td>NaN</td>\n",
       "      <td>Food is any substance consumed to provide nutr...</td>\n",
       "    </tr>\n",
       "    <tr>\n",
       "      <th>4</th>\n",
       "      <td>12</td>\n",
       "      <td>130835</td>\n",
       "      <td>/m/02vx4</td>\n",
       "      <td>Association football</td>\n",
       "      <td>https://en.wikipedia.org/wiki/Association_foot...</td>\n",
       "      <td>Sports</td>\n",
       "      <td>NaN</td>\n",
       "      <td>NaN</td>\n",
       "      <td>Association football, more commonly known as f...</td>\n",
       "    </tr>\n",
       "  </tbody>\n",
       "</table>\n",
       "</div>"
      ],
      "text/plain": [
       "   Index  TrainVideoCount KnowledgeGraphId                  Name  \\\n",
       "0      3           378135        /m/01jddz               Concert   \n",
       "1      7           200813          /m/0k4j                   Car   \n",
       "2      8           181579         /m/026bk                 Dance   \n",
       "3     11           135357         /m/02wbm                  Food   \n",
       "4     12           130835         /m/02vx4  Association football   \n",
       "\n",
       "                                             WikiUrl             Vertical1  \\\n",
       "0              https://en.wikipedia.org/wiki/Concert  Arts & Entertainment   \n",
       "1                  https://en.wikipedia.org/wiki/Car      Autos & Vehicles   \n",
       "2                https://en.wikipedia.org/wiki/Dance  Arts & Entertainment   \n",
       "3                 https://en.wikipedia.org/wiki/Food          Food & Drink   \n",
       "4  https://en.wikipedia.org/wiki/Association_foot...                Sports   \n",
       "\n",
       "  Vertical2 Vertical3                                    WikiDescription  \n",
       "0       NaN       NaN  A concert is a live music performance in front...  \n",
       "1       NaN       NaN  A car is a wheeled, self-powered motor vehicle...  \n",
       "2       NaN       NaN  Dance is a performance art form consisting of ...  \n",
       "3       NaN       NaN  Food is any substance consumed to provide nutr...  \n",
       "4       NaN       NaN  Association football, more commonly known as f...  "
      ]
     },
     "execution_count": 8,
     "metadata": {},
     "output_type": "execute_result"
    }
   ],
   "source": [
    "df= pd.read_csv(\"vocabulary.csv\")\n",
    "df.head(5)"
   ]
  },
  {
   "cell_type": "code",
   "execution_count": 9,
   "id": "7a0c7427",
   "metadata": {},
   "outputs": [
    {
     "data": {
      "text/html": [
       "<div>\n",
       "<style scoped>\n",
       "    .dataframe tbody tr th:only-of-type {\n",
       "        vertical-align: middle;\n",
       "    }\n",
       "\n",
       "    .dataframe tbody tr th {\n",
       "        vertical-align: top;\n",
       "    }\n",
       "\n",
       "    .dataframe thead th {\n",
       "        text-align: right;\n",
       "    }\n",
       "</style>\n",
       "<table border=\"1\" class=\"dataframe\">\n",
       "  <thead>\n",
       "    <tr style=\"text-align: right;\">\n",
       "      <th></th>\n",
       "      <th>Index</th>\n",
       "      <th>TrainVideoCount</th>\n",
       "      <th>KnowledgeGraphId</th>\n",
       "      <th>Name</th>\n",
       "      <th>WikiUrl</th>\n",
       "      <th>Vertical1</th>\n",
       "      <th>Vertical2</th>\n",
       "      <th>Vertical3</th>\n",
       "      <th>WikiDescription</th>\n",
       "    </tr>\n",
       "  </thead>\n",
       "  <tbody>\n",
       "    <tr>\n",
       "      <th>831</th>\n",
       "      <td>1444</td>\n",
       "      <td>666</td>\n",
       "      <td>/m/02gln</td>\n",
       "      <td>Donald Duck</td>\n",
       "      <td>https://en.wikipedia.org/wiki/Donald_Duck</td>\n",
       "      <td>Arts &amp; Entertainment</td>\n",
       "      <td>NaN</td>\n",
       "      <td>NaN</td>\n",
       "      <td>Donald Duck is a cartoon character created in ...</td>\n",
       "    </tr>\n",
       "  </tbody>\n",
       "</table>\n",
       "</div>"
      ],
      "text/plain": [
       "     Index  TrainVideoCount KnowledgeGraphId         Name  \\\n",
       "831   1444              666         /m/02gln  Donald Duck   \n",
       "\n",
       "                                       WikiUrl             Vertical1  \\\n",
       "831  https://en.wikipedia.org/wiki/Donald_Duck  Arts & Entertainment   \n",
       "\n",
       "    Vertical2 Vertical3                                    WikiDescription  \n",
       "831       NaN       NaN  Donald Duck is a cartoon character created in ...  "
      ]
     },
     "execution_count": 9,
     "metadata": {},
     "output_type": "execute_result"
    }
   ],
   "source": [
    "ans= df.loc[df['Index']==seg_labels_r1[0][0]]\n",
    "ans "
   ]
  },
  {
   "cell_type": "code",
   "execution_count": 10,
   "id": "37cef631",
   "metadata": {},
   "outputs": [],
   "source": [
    "#Video: Donald Duck\n",
    "#column name: Name\n",
    "\n",
    "#Label: Arts & Entertainment\n",
    "#column name: Vertical1"
   ]
  },
  {
   "cell_type": "code",
   "execution_count": 11,
   "id": "cbc3fcac",
   "metadata": {},
   "outputs": [
    {
     "data": {
      "text/plain": [
       "24"
      ]
     },
     "execution_count": 11,
     "metadata": {},
     "output_type": "execute_result"
    }
   ],
   "source": [
    "df['Vertical1'].nunique()"
   ]
  }
 ],
 "metadata": {
  "kernelspec": {
   "display_name": "Python 3 (ipykernel)",
   "language": "python",
   "name": "python3"
  },
  "language_info": {
   "codemirror_mode": {
    "name": "ipython",
    "version": 3
   },
   "file_extension": ".py",
   "mimetype": "text/x-python",
   "name": "python",
   "nbconvert_exporter": "python",
   "pygments_lexer": "ipython3",
   "version": "3.9.7"
  }
 },
 "nbformat": 4,
 "nbformat_minor": 5
}
