{
  "cells": [
    {
      "cell_type": "markdown",
      "id": "00e9889b",
      "metadata": {
        "id": "00e9889b"
      },
      "source": [
        "## GOOGLE'S SPEECH RECOGNITION"
      ]
    },
    {
      "cell_type": "code",
      "execution_count": null,
      "id": "ccc7b465",
      "metadata": {
        "id": "ccc7b465",
        "outputId": "1020a736-16ef-4815-b3d3-5fcb9117ff06"
      },
      "outputs": [
        {
          "name": "stdout",
          "output_type": "stream",
          "text": [
            "Requirement already satisfied: ffmpeg-python in c:\\users\\admin\\anaconda3\\lib\\site-packages (0.2.0)\n",
            "Requirement already satisfied: future in c:\\users\\admin\\anaconda3\\lib\\site-packages (from ffmpeg-python) (0.18.2)\n",
            "Note: you may need to restart the kernel to use updated packages.\n"
          ]
        },
        {
          "name": "stderr",
          "output_type": "stream",
          "text": [
            "WARNING: Ignoring invalid distribution -pencv-python (c:\\users\\admin\\anaconda3\\lib\\site-packages)\n",
            "WARNING: Ignoring invalid distribution -illow (c:\\users\\admin\\anaconda3\\lib\\site-packages)\n",
            "WARNING: Ignoring invalid distribution -pencv-python (c:\\users\\admin\\anaconda3\\lib\\site-packages)\n",
            "WARNING: Ignoring invalid distribution -illow (c:\\users\\admin\\anaconda3\\lib\\site-packages)\n",
            "WARNING: Ignoring invalid distribution -pencv-python (c:\\users\\admin\\anaconda3\\lib\\site-packages)\n",
            "WARNING: Ignoring invalid distribution -illow (c:\\users\\admin\\anaconda3\\lib\\site-packages)\n",
            "WARNING: Ignoring invalid distribution -pencv-python (c:\\users\\admin\\anaconda3\\lib\\site-packages)\n",
            "WARNING: Ignoring invalid distribution -illow (c:\\users\\admin\\anaconda3\\lib\\site-packages)\n",
            "WARNING: Ignoring invalid distribution -pencv-python (c:\\users\\admin\\anaconda3\\lib\\site-packages)\n",
            "WARNING: Ignoring invalid distribution -illow (c:\\users\\admin\\anaconda3\\lib\\site-packages)\n",
            "WARNING: Ignoring invalid distribution -pencv-python (c:\\users\\admin\\anaconda3\\lib\\site-packages)\n",
            "WARNING: Ignoring invalid distribution -illow (c:\\users\\admin\\anaconda3\\lib\\site-packages)\n"
          ]
        }
      ],
      "source": [
        "pip install ffmpeg-python"
      ]
    },
    {
      "cell_type": "code",
      "execution_count": null,
      "id": "ab322983",
      "metadata": {
        "id": "ab322983"
      },
      "outputs": [],
      "source": [
        "import moviepy.editor\n",
        "import whisper\n",
        "\n",
        "import speech_recognition as sr\n",
        "from pydub import AudioSegment"
      ]
    },
    {
      "cell_type": "code",
      "execution_count": null,
      "id": "0e25e6d4",
      "metadata": {
        "id": "0e25e6d4"
      },
      "outputs": [],
      "source": [
        "def extract_text(file):\n",
        "\n",
        "    video=moviepy.editor.VideoFileClip(file)\n",
        "    audio=video.audio\n",
        "    audio.write_audiofile('audio1.wav')\n",
        "    audio.write_audiofile('audio1.mp3')\n",
        "    make_text('audio1.wav')"
      ]
    },
    {
      "cell_type": "code",
      "execution_count": null,
      "id": "6dd9839c",
      "metadata": {
        "id": "6dd9839c"
      },
      "outputs": [],
      "source": [
        "def make_text(file):\n",
        "    text=[]\n",
        "    r= sr.Recognizer()\n",
        "    with sr.AudioFile(file) as source:\n",
        "        audio_text= r.listen(source)\n",
        "        try:\n",
        "            rec= r.recognize_google(audio_text)\n",
        "            text.append(rec)\n",
        "\n",
        "        except:\n",
        "            print('something went wrong')\n",
        "    print(text)\n",
        ""
      ]
    },
    {
      "cell_type": "code",
      "execution_count": null,
      "id": "ca69e9ee",
      "metadata": {
        "id": "ca69e9ee",
        "outputId": "d194bb75-4133-4325-a715-32c6a6c38d4b"
      },
      "outputs": [
        {
          "name": "stdout",
          "output_type": "stream",
          "text": [
            "MoviePy - Writing audio in audio1.wav\n"
          ]
        },
        {
          "name": "stderr",
          "output_type": "stream",
          "text": [
            "                                                                                                                       \r"
          ]
        },
        {
          "name": "stdout",
          "output_type": "stream",
          "text": [
            "MoviePy - Done.\n",
            "MoviePy - Writing audio in audio1.mp3\n"
          ]
        },
        {
          "name": "stderr",
          "output_type": "stream",
          "text": [
            "                                                                                                                       \r"
          ]
        },
        {
          "name": "stdout",
          "output_type": "stream",
          "text": [
            "MoviePy - Done.\n",
            "something went wrong\n",
            "[]\n"
          ]
        }
      ],
      "source": [
        "extract_text('QNN.mp4')"
      ]
    },
    {
      "cell_type": "markdown",
      "id": "2fe3a99b",
      "metadata": {
        "id": "2fe3a99b"
      },
      "source": [
        "## OPENAI- WHISPER"
      ]
    },
    {
      "cell_type": "code",
      "execution_count": null,
      "id": "db67a197",
      "metadata": {
        "id": "db67a197"
      },
      "outputs": [],
      "source": [
        "results=[]\n",
        "model= whisper.load_model('base')\n",
        "result= model.transcribe('audio1.mp3')\n",
        "results.append(result[\"text\"])"
      ]
    },
    {
      "cell_type": "code",
      "execution_count": null,
      "id": "ff194418",
      "metadata": {
        "id": "ff194418",
        "outputId": "e75bd7b3-fba5-4435-cff2-621463e04299"
      },
      "outputs": [
        {
          "name": "stdout",
          "output_type": "stream",
          "text": [
            "[\" Welcome, curious minds, to another fascinating journey into the world of cutting-edge technology. In today's episode, we dive into the captivating realm of quantum neural networks. Join us as we explore how the integration of quantum computing and artificial intelligence is reshaping the landscape of advanced machine learning algorithms. Make sure to hit that like button, subscribe, and turn on notifications to stay updated with our latest content. Artificial neural networks say NNs have revolutionized the field of artificial intelligence, enabling remarkable advancements in areas such as image recognition, natural language processing, and autonomous systems. But what if we could enhance these capabilities even further by harnessing the power of quantum computing? Enter quantum neural networks. Quantum neural networks combine the principles of quantum mechanics with the architecture and principles of classical neural networks. They are designed to harness the unique properties of quantum systems to solve complex problems more efficiently and potentially outperform classical machine learning algorithms. At the curve of quantum neural networks lies the concept of quantum superposition. Unlike classical bits that can be either zero or one, quantum bits or qubits can exist in a superposition of states, allowing for the simultaneous representation of multiple possibilities. This enables quantum neural networks to process and manipulate vast amounts of information in parallel. Make sure to hit that like button, subscribe, and turn on notifications to stay updated with our latest content. Quantum neural networks leverage the principles of quantum computing to perform quantum operations, such as quantum gates and quantum entangle met on qubits. These operations enhance the learning and decision making processes, enabling more nuanced and efficient computations compared to classical neural networks. One exciting application of quantum neural networks is quantum pattern recognition. By leveraging quantum superposition and interference effects, these networks can efficiently classify and identify patterns in large data sets, opening up possibilities for improved image and speech recognition, as well as anomaly detection. Another area of research is quantum reinforcement learning, where quantum neural networks are employed to optimize decision making processes in dynamic environments. By leveraging quantum parallelism and quantum optimization techniques, these networks have the potential to find optimal strategies more efficiently than classical algorithms. Quantum neural networks also play a crucial role in solving complex optimization problems. Quantum algorithms, such as the quantum approximation algorithm CAO, can be incorporated into these networks to find optimal solutions for combinatorial optimization problems, such as the traveling salesman problem and portfolio optimization. It's important to note that quantum neural networks are still in their early stages of development and many challenges lie ahead. Quantum error correction, noisy intermediate scale quantum nick device us, and the need for large scale. Fall tolerant quantum computers are just some of the hurdles that need to be overcome for widespread implementation. Nevertheless, the potential of quantum neural networks is vast. They have the ability to revolutionize fields such as drug discovery, financial modeling, material science, and quantum chemistry, pushing the boundaries of what is possible in terms of computational power and AI capabilities. And there you have it, fellow explorers of the quantum frontier. Quantum neural networks offer a tantalizing glimpse into the future of artificial intelligence, where the marriage of quantum computing and machine learning unleashes unprecedented possibilities. Thank you for joining us today. If you found this video intriguing, don't forget to like, subscribe, and share it with fellow technology enthusiasts. Until next time, keep exploring, keep questioning, and let the wonders of quantum neural networks guide your path towards new horizons.\"]\n"
          ]
        }
      ],
      "source": [
        "print(results)"
      ]
    }
  ],
  "metadata": {
    "kernelspec": {
      "display_name": "Python 3 (ipykernel)",
      "language": "python",
      "name": "python3"
    },
    "language_info": {
      "codemirror_mode": {
        "name": "ipython",
        "version": 3
      },
      "file_extension": ".py",
      "mimetype": "text/x-python",
      "name": "python",
      "nbconvert_exporter": "python",
      "pygments_lexer": "ipython3",
      "version": "3.9.7"
    },
    "colab": {
      "provenance": []
    }
  },
  "nbformat": 4,
  "nbformat_minor": 5
}